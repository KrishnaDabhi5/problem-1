{
 "cells": [
  {
   "cell_type": "code",
   "execution_count": 1,
   "id": "fa1359fd",
   "metadata": {},
   "outputs": [],
   "source": [
    "#User will input (3ages).Find the oldest one"
   ]
  },
  {
   "cell_type": "code",
   "execution_count": 2,
   "id": "a4a2696c",
   "metadata": {},
   "outputs": [
    {
     "name": "stdout",
     "output_type": "stream",
     "text": [
      "enter the first age 23\n",
      "enter the second age 65\n",
      "enter the third age 53\n",
      "second is oldest\n"
     ]
    }
   ],
   "source": [
    "a = int(input(\"enter the first age \"))\n",
    "b = int(input(\"enter the second age \"))\n",
    "c = int(input(\"enter the third age \"))\n",
    "if (a>b and a>c):\n",
    "    print(\"first is oldest\")\n",
    "elif (b>a and b>c):\n",
    "    print(\"second is oldest\")\n",
    "else:\n",
    "    print(\"third is oldest\")   "
   ]
  },
  {
   "cell_type": "code",
   "execution_count": null,
   "id": "22f6f1e8",
   "metadata": {},
   "outputs": [],
   "source": []
  }
 ],
 "metadata": {
  "kernelspec": {
   "display_name": "Python 3 (ipykernel)",
   "language": "python",
   "name": "python3"
  },
  "language_info": {
   "codemirror_mode": {
    "name": "ipython",
    "version": 3
   },
   "file_extension": ".py",
   "mimetype": "text/x-python",
   "name": "python",
   "nbconvert_exporter": "python",
   "pygments_lexer": "ipython3",
   "version": "3.10.8"
  }
 },
 "nbformat": 4,
 "nbformat_minor": 5
}
